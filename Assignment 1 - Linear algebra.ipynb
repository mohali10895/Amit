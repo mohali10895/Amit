{
 "cells": [
  {
   "cell_type": "markdown",
   "id": "2b4115fd-f3f0-47b3-9241-9efed4ba3ae5",
   "metadata": {},
   "source": [
    "# Assignment 1 - Linear algebra"
   ]
  },
  {
   "cell_type": "code",
   "execution_count": 14,
   "id": "320d2cec-82c1-4ce1-96b3-b7f8c372094c",
   "metadata": {},
   "outputs": [
    {
     "name": "stdout",
     "output_type": "stream",
     "text": [
      "True\n"
     ]
    }
   ],
   "source": [
    "# 1- Write a NumPy program to test whether none of the elements of a given array is zero\n",
    "import numpy as np\n",
    "x = np.array([1, 2, 3, 4])\n",
    "print(np.all(x))"
   ]
  },
  {
   "cell_type": "code",
   "execution_count": 13,
   "id": "790dfdab-6d60-427c-ad72-3b1b2b85a80b",
   "metadata": {},
   "outputs": [
    {
     "name": "stdout",
     "output_type": "stream",
     "text": [
      "True\n"
     ]
    }
   ],
   "source": [
    "# 2- Write a NumPy program to test whether any of the elements of a given array is non-zero.\n",
    "x = np.array([1, 0, 0, 0])\n",
    "print(np.any(x))"
   ]
  },
  {
   "cell_type": "code",
   "execution_count": 15,
   "id": "d453fc31-6c0c-40ad-855d-064a2299371d",
   "metadata": {},
   "outputs": [
    {
     "name": "stdout",
     "output_type": "stream",
     "text": [
      "Comparison - equal:\n",
      "[ True  True  True  True  True  True  True  True  True False]\n",
      "Comparison - equal within a tolerance:\n",
      "True\n"
     ]
    }
   ],
   "source": [
    "# 3- Write a NumPy program to create an element-wise comparison (equal, equal within a tolerance) of two given\n",
    "x = np.array([72, 79, 85, 90, 150, -135, 120, -10, 60, 100])\n",
    "y = np.array([72, 79, 85, 90, 150, -135, 120, -10, 60, 100.000001])\n",
    "print(\"Comparison - equal:\")\n",
    "print(np.equal(x, y))\n",
    "print(\"Comparison - equal within a tolerance:\")\n",
    "print(np.allclose(x, y))"
   ]
  },
  {
   "cell_type": "code",
   "execution_count": 16,
   "id": "5c77f8f1-2a55-458d-a50c-75db025b3373",
   "metadata": {},
   "outputs": [
    {
     "name": "stdout",
     "output_type": "stream",
     "text": [
      "[0. 0. 0. 0. 0. 0. 0. 0. 0. 0.]\n",
      "[1. 1. 1. 1. 1. 1. 1. 1. 1. 1.]\n",
      "[5. 5. 5. 5. 5. 5. 5. 5. 5. 5.]\n"
     ]
    }
   ],
   "source": [
    "# 4- Write a NumPy program to create an array of 10 zeros,10 ones, 10 fives\n",
    "x=np.zeros(10)\n",
    "print(x)\n",
    "y=np.ones(10)\n",
    "print(y)\n",
    "z=np.ones(10)*5\n",
    "print(z)"
   ]
  },
  {
   "cell_type": "code",
   "execution_count": 17,
   "id": "816ee515-27ab-41a2-b139-3ed07169d081",
   "metadata": {},
   "outputs": [
    {
     "name": "stdout",
     "output_type": "stream",
     "text": [
      "[30 31 32 33 34 35 36 37 38 39 40 41 42 43 44 45 46 47 48 49 50 51 52 53\n",
      " 54 55 56 57 58 59 60 61 62 63 64 65 66 67 68 69 70]\n"
     ]
    }
   ],
   "source": [
    "# 5- Write a NumPy program to create an array of the integers from 30 to70\n",
    "x=np.arange(30,71)\n",
    "print(x)"
   ]
  },
  {
   "cell_type": "code",
   "execution_count": 18,
   "id": "b891477b-f108-4514-be22-f640a5dc054a",
   "metadata": {},
   "outputs": [
    {
     "name": "stdout",
     "output_type": "stream",
     "text": [
      "[[1. 0. 0.]\n",
      " [0. 1. 0.]\n",
      " [0. 0. 1.]]\n"
     ]
    }
   ],
   "source": [
    "# 6- Write a NumPy program to create a 3x3 identity matrix\n",
    "x=np.identity(3)\n",
    "print(x)"
   ]
  },
  {
   "cell_type": "code",
   "execution_count": 19,
   "id": "dfbbc969-0bb4-4bd0-89a4-778f6ca81222",
   "metadata": {},
   "outputs": [
    {
     "name": "stdout",
     "output_type": "stream",
     "text": [
      "[0.32171161]\n"
     ]
    }
   ],
   "source": [
    "# 7- Write a NumPy program to generate a random number between 0 and 1 \n",
    "rand_num = np.random.normal(0,1,1)\n",
    "print(rand_num)"
   ]
  },
  {
   "cell_type": "code",
   "execution_count": 20,
   "id": "5417b1b0-d076-441b-81f6-0407a716d06d",
   "metadata": {},
   "outputs": [
    {
     "name": "stdout",
     "output_type": "stream",
     "text": [
      "[ 1.41685043  0.31523429  0.04537075  0.34606386 -1.00159117  1.45208892\n",
      " -0.33754363 -1.38145357  0.20931196 -1.95734386  0.09391357 -0.25526299\n",
      " -0.30266935 -1.74075834  1.27240188]\n"
     ]
    }
   ],
   "source": [
    "# 8- Write a NumPy program to generate an array of 15 random numbers from a standard normal distribution\n",
    "rand_num = np.random.normal(0,1,15)\n",
    "print(rand_num)"
   ]
  },
  {
   "cell_type": "code",
   "execution_count": 26,
   "id": "c5e37838-e3a7-4650-a2d2-7c8cef1a1f25",
   "metadata": {},
   "outputs": [
    {
     "name": "stdout",
     "output_type": "stream",
     "text": [
      "[16 17 18 19 20 21 22 23 24 25 26 27 28 29 30 31 32 33 34 35 36 37 38 39\n",
      " 40 41 42 43 44 45 46 47 48 49 50 51 52 53 54]\n"
     ]
    }
   ],
   "source": [
    "# 9- Write a NumPy program to create a vector with values ranging from 15 to 55 and print all values except the first and last\n",
    "v = np.arange(15,55)\n",
    "print(v[1:])"
   ]
  },
  {
   "cell_type": "code",
   "execution_count": 27,
   "id": "dc99db81-a41a-4692-8157-ba9f325a5d7f",
   "metadata": {},
   "outputs": [
    {
     "name": "stdout",
     "output_type": "stream",
     "text": [
      "[ 9 10  4  7  3]\n"
     ]
    }
   ],
   "source": [
    "# 10- Write a NumPy program to create a vector of length 5 filled with arbitrary integers from 0 to 10\n",
    "x = np.random.randint(0, 11, 5)\n",
    "print(x)"
   ]
  },
  {
   "cell_type": "code",
   "execution_count": 28,
   "id": "bfbc3be8-04bd-4502-9c04-ec45b0b14856",
   "metadata": {},
   "outputs": [
    {
     "name": "stdout",
     "output_type": "stream",
     "text": [
      "[[1. 1. 1. 1. 1. 1. 1. 1. 1. 1.]\n",
      " [1. 0. 0. 0. 0. 0. 0. 0. 0. 1.]\n",
      " [1. 0. 0. 0. 0. 0. 0. 0. 0. 1.]\n",
      " [1. 0. 0. 0. 0. 0. 0. 0. 0. 1.]\n",
      " [1. 0. 0. 0. 0. 0. 0. 0. 0. 1.]\n",
      " [1. 0. 0. 0. 0. 0. 0. 0. 0. 1.]\n",
      " [1. 0. 0. 0. 0. 0. 0. 0. 0. 1.]\n",
      " [1. 0. 0. 0. 0. 0. 0. 0. 0. 1.]\n",
      " [1. 0. 0. 0. 0. 0. 0. 0. 0. 1.]\n",
      " [1. 1. 1. 1. 1. 1. 1. 1. 1. 1.]]\n"
     ]
    }
   ],
   "source": [
    "# 11- Write a NumPy program to create a 10x10 matrix, in which the elements on the borders will be equal to 1, and inside 0.\n",
    "x = np.ones((10, 10))\n",
    "x[1:-1, 1:-1] = 0\n",
    "print(x)"
   ]
  },
  {
   "cell_type": "code",
   "execution_count": 29,
   "id": "cc1d4640-d0ef-493c-920b-61949b4c8a6d",
   "metadata": {},
   "outputs": [
    {
     "name": "stdout",
     "output_type": "stream",
     "text": [
      "[[1 0 0 0 0]\n",
      " [0 2 0 0 0]\n",
      " [0 0 3 0 0]\n",
      " [0 0 0 4 0]\n",
      " [0 0 0 0 5]]\n"
     ]
    }
   ],
   "source": [
    "# 12- Write a NumPy program to create a 5x5 zero matrix with elements on the main diagonal equal to 1, 2, 3, 4, 5.\n",
    "x = np.diag([1, 2, 3, 4, 5])\n",
    "print(x)"
   ]
  },
  {
   "cell_type": "code",
   "execution_count": 30,
   "id": "7bd5d817-013b-40d8-9497-4b4c0472e030",
   "metadata": {},
   "outputs": [
    {
     "name": "stdout",
     "output_type": "stream",
     "text": [
      "[[0. 1. 0. 1.]\n",
      " [1. 0. 1. 0.]\n",
      " [0. 1. 0. 1.]\n",
      " [1. 0. 1. 0.]]\n"
     ]
    }
   ],
   "source": [
    "# 13-  Write a NumPy program to create a 4x4 matrix in which 0 and 1 are staggered, with zeros on the main diagonal.\n",
    "x = np.zeros((4, 4))\n",
    "x[::2, 1::2] = 1\n",
    "x[1::2, ::2] = 1\n",
    "print(x)"
   ]
  },
  {
   "cell_type": "code",
   "execution_count": 32,
   "id": "8f2ac31c-2dd7-4483-a1dc-50e07dc5ed02",
   "metadata": {},
   "outputs": [
    {
     "name": "stdout",
     "output_type": "stream",
     "text": [
      "[0 1 2 3 4 5 6 7 8 9]\n",
      "[11 12 13 14 15 16 17 18 19]\n"
     ]
    }
   ],
   "source": [
    "# 14- Write a NumPy program to save two given arrays into a single file in compressed format (.npz format) and load it.\n",
    "import os\n",
    "x = np.arange(10)\n",
    "y = np.arange(11, 20)\n",
    "np.savez('temp_arra.npz', x=x, y=y)\n",
    "with np.load('temp_arra.npz') as data:\n",
    "    x2 = data['x']\n",
    "    y2 = data['y']\n",
    "    print(x2)\n",
    "    print(y2)"
   ]
  },
  {
   "cell_type": "code",
   "execution_count": 2,
   "id": "719dcb96-15ee-4476-b264-b7df9756b98d",
   "metadata": {},
   "outputs": [
    {
     "name": "stdout",
     "output_type": "stream",
     "text": [
      "[0.77132064 0.02075195 0.63364823 0.74880388 0.49850701 0.22479665\n",
      " 0.19806286 0.76053071 0.16911084 0.08833981 0.68535982 0.95339335\n",
      " 0.00394827 0.51219226 0.81262096 0.61252607 0.72175532 0.29187607\n",
      " 0.91777412 0.71457578 0.54254437 0.14217005 0.37334076 0.67413362\n",
      " 0.44183317 0.43401399 0.61776698 0.51313824 0.65039718 0.60103895\n",
      " 0.8052232  0.52164715 0.90864888 0.31923609 0.09045935 0.30070006\n",
      " 0.11398436 0.82868133 0.04689632 0.62628715]\n"
     ]
    }
   ],
   "source": [
    "# 15- Write a NumPy program to create a one-dimensional array of forty pseudo-randomly generated values\n",
    "import numpy as np  \n",
    "x = np.random.seed(10)\n",
    "print(np.random.rand(40))"
   ]
  },
  {
   "cell_type": "code",
   "execution_count": 4,
   "id": "b60671ae-8c34-4b46-926d-4a8685fe1014",
   "metadata": {},
   "outputs": [
    {
     "name": "stdout",
     "output_type": "stream",
     "text": [
      "[ 6  8  7 10]\n",
      "[4 4 2 3]\n"
     ]
    }
   ],
   "source": [
    "# 16- rite a NumPy program to extract all numbers from a given array which are less and greater than a specified number.\n",
    "nums = np.array([[6, 4, 8],\n",
    "              [4, 5, 7],\n",
    "              [2, 3, 10]])\n",
    "n = 5\n",
    "print(nums[nums > n])\n",
    "print(nums[nums < n])"
   ]
  },
  {
   "cell_type": "code",
   "execution_count": null,
   "id": "b255264f-eba3-442a-9bba-2101d22ae87f",
   "metadata": {},
   "outputs": [],
   "source": []
  }
 ],
 "metadata": {
  "kernelspec": {
   "display_name": "Python 3 (ipykernel)",
   "language": "python",
   "name": "python3"
  },
  "language_info": {
   "codemirror_mode": {
    "name": "ipython",
    "version": 3
   },
   "file_extension": ".py",
   "mimetype": "text/x-python",
   "name": "python",
   "nbconvert_exporter": "python",
   "pygments_lexer": "ipython3",
   "version": "3.9.13"
  }
 },
 "nbformat": 4,
 "nbformat_minor": 5
}
